{
 "cells": [
  {
   "cell_type": "code",
   "execution_count": 3,
   "id": "10012d52-1e1e-43c4-85f1-30bbe9c4906a",
   "metadata": {},
   "outputs": [
    {
     "ename": "ImportError",
     "evalue": "cannot import name 'Aer' from 'qiskit' (/opt/homebrew/anaconda3/lib/python3.12/site-packages/qiskit/__init__.py)",
     "output_type": "error",
     "traceback": [
      "\u001b[0;31m---------------------------------------------------------------------------\u001b[0m",
      "\u001b[0;31mImportError\u001b[0m                               Traceback (most recent call last)",
      "Cell \u001b[0;32mIn[3], line 2\u001b[0m\n\u001b[1;32m      1\u001b[0m \u001b[38;5;66;03m# Install Qiskit before running: pip install qiskit\u001b[39;00m\n\u001b[0;32m----> 2\u001b[0m \u001b[38;5;28;01mfrom\u001b[39;00m \u001b[38;5;21;01mqiskit\u001b[39;00m \u001b[38;5;28;01mimport\u001b[39;00m QuantumCircuit, Aer, execute\n\u001b[1;32m      4\u001b[0m \u001b[38;5;66;03m# Step 1: Create a Quantum Circuit with 1 qubit and 1 classical bit\u001b[39;00m\n\u001b[1;32m      5\u001b[0m qc \u001b[38;5;241m=\u001b[39m QuantumCircuit(\u001b[38;5;241m1\u001b[39m, \u001b[38;5;241m1\u001b[39m)\n",
      "\u001b[0;31mImportError\u001b[0m: cannot import name 'Aer' from 'qiskit' (/opt/homebrew/anaconda3/lib/python3.12/site-packages/qiskit/__init__.py)"
     ]
    }
   ],
   "source": [
    "# Install Qiskit before running: pip install qiskit\n",
    "from qiskit import QuantumCircuit, Aer, execute\n",
    "\n",
    "# Step 1: Create a Quantum Circuit with 1 qubit and 1 classical bit\n",
    "qc = QuantumCircuit(1, 1)\n",
    "\n",
    "# Step 2: Apply a Hadamard gate to create superposition\n",
    "qc.h(0)\n",
    "\n",
    "# Step 3: Measure the qubit\n",
    "qc.measure(0, 0)\n",
    "\n",
    "# Step 4: Simulate the circuit\n",
    "simulator = Aer.get_backend('qasm_simulator')\n",
    "job = execute(qc, simulator, shots=1024)\n",
    "result = job.result()\n",
    "\n",
    "# Step 5: Get and display the result\n",
    "counts = result.get_counts(qc)\n",
    "print(\"Measurement Results:\", counts)\n",
    "\n",
    "# Step 6: Visualize the circuit\n",
    "print(qc.draw())\n"
   ]
  },
  {
   "cell_type": "code",
   "execution_count": null,
   "id": "ff1c7fc3-7934-480c-8187-f7ca01d0aaa7",
   "metadata": {},
   "outputs": [],
   "source": []
  },
  {
   "cell_type": "code",
   "execution_count": null,
   "id": "6377ed8c-df75-4af2-9c35-2c6ef4fa70a1",
   "metadata": {},
   "outputs": [],
   "source": []
  }
 ],
 "metadata": {
  "kernelspec": {
   "display_name": "Python 3 (ipykernel)",
   "language": "python",
   "name": "python3"
  },
  "language_info": {
   "codemirror_mode": {
    "name": "ipython",
    "version": 3
   },
   "file_extension": ".py",
   "mimetype": "text/x-python",
   "name": "python",
   "nbconvert_exporter": "python",
   "pygments_lexer": "ipython3",
   "version": "3.12.7"
  }
 },
 "nbformat": 4,
 "nbformat_minor": 5
}
