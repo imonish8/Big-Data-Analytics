{
 "cells": [
  {
   "cell_type": "code",
   "execution_count": 11,
   "id": "1dd356f2-80f0-4400-a727-cb830f168b1b",
   "metadata": {},
   "outputs": [
    {
     "name": "stdout",
     "output_type": "stream",
     "text": [
      "[ 2  3 44 53 23]\n",
      "int64\n",
      "1\n",
      "2.1.2\n"
     ]
    }
   ],
   "source": [
    "import numpy as np\n",
    "list1 = [2,3,44,53,23]\n",
    "arr = np.array(list1)\n",
    "print(arr)\n",
    "print(arr.dtype)\n",
    "print(arr.ndim)\n",
    "print(np.__version__)\n"
   ]
  },
  {
   "cell_type": "code",
   "execution_count": 12,
   "id": "e52c269e-e651-466c-b011-46f0f8002b43",
   "metadata": {},
   "outputs": [
    {
     "name": "stdout",
     "output_type": "stream",
     "text": [
      "(1, 24.55, 44, 432, 13)\n"
     ]
    }
   ],
   "source": [
    "T1 = (1,24.55,44,432,13)\n",
    "arr = np.array(T1)\n",
    "print(T1)"
   ]
  },
  {
   "cell_type": "code",
   "execution_count": 15,
   "id": "91501164-330e-4aad-b2c9-381a5e64fe45",
   "metadata": {},
   "outputs": [
    {
     "name": "stdout",
     "output_type": "stream",
     "text": [
      "{'id': 2002, 'name': 'Kamini'}\n"
     ]
    }
   ],
   "source": [
    "d1 = {\"id\" :2002, \"name\" : \"Kamini\"}\n",
    "print(d1)"
   ]
  },
  {
   "cell_type": "code",
   "execution_count": 17,
   "id": "b2e651b2-8882-4b1b-b984-f6a17fd14c5a",
   "metadata": {},
   "outputs": [
    {
     "name": "stdout",
     "output_type": "stream",
     "text": [
      "{'id': 2002, 'name': 'Kamini'}\n"
     ]
    }
   ],
   "source": [
    "#print(d1.dtype)\n",
    "arr = np.array(d1)\n",
    "print(arr)"
   ]
  },
  {
   "cell_type": "code",
   "execution_count": 19,
   "id": "2c3ead74-a3b6-4b76-9c8f-f06498881800",
   "metadata": {},
   "outputs": [
    {
     "name": "stdout",
     "output_type": "stream",
     "text": [
      "object\n"
     ]
    }
   ],
   "source": [
    "print(arr.dtype)"
   ]
  },
  {
   "cell_type": "code",
   "execution_count": 20,
   "id": "1f16f0dd-e347-4fc3-900f-4b08723f9ced",
   "metadata": {},
   "outputs": [
    {
     "name": "stdout",
     "output_type": "stream",
     "text": [
      "<class 'numpy.ndarray'>\n"
     ]
    }
   ],
   "source": [
    "print(type(arr))"
   ]
  },
  {
   "cell_type": "code",
   "execution_count": 21,
   "id": "63e53176-8523-4f8c-86f8-cad0e0044108",
   "metadata": {},
   "outputs": [
    {
     "name": "stdout",
     "output_type": "stream",
     "text": [
      "0\n"
     ]
    }
   ],
   "source": [
    "print(arr.ndim)"
   ]
  },
  {
   "cell_type": "code",
   "execution_count": 22,
   "id": "1c4ea7d9-9626-4d56-9019-ea7d66002e47",
   "metadata": {},
   "outputs": [
    {
     "name": "stdout",
     "output_type": "stream",
     "text": [
      "[[ 1  2  3]\n",
      " [14 56 33]]\n"
     ]
    }
   ],
   "source": [
    "twoD = [[1,2,3],[14,56,33]]\n",
    "arr2d = np.array(twoD)\n",
    "print(arr2d)"
   ]
  },
  {
   "cell_type": "code",
   "execution_count": 23,
   "id": "6a5111ac-93bd-400c-b6c0-7d116e964bb2",
   "metadata": {},
   "outputs": [
    {
     "name": "stdout",
     "output_type": "stream",
     "text": [
      "<class 'numpy.ndarray'>\n"
     ]
    }
   ],
   "source": [
    "print(type(arr2d))"
   ]
  },
  {
   "cell_type": "code",
   "execution_count": 24,
   "id": "ca0c8d71-99c0-4407-9912-1873d5fdfd0a",
   "metadata": {},
   "outputs": [
    {
     "name": "stdout",
     "output_type": "stream",
     "text": [
      "int64\n"
     ]
    }
   ],
   "source": [
    "print(arr2d.dtype)"
   ]
  },
  {
   "cell_type": "code",
   "execution_count": 28,
   "id": "d3796440-f10f-4811-ae33-c75f2a6d1f6a",
   "metadata": {},
   "outputs": [
    {
     "name": "stdout",
     "output_type": "stream",
     "text": [
      "[ 1  3  4  5  4  5 63 22 22]\n",
      "<class 'numpy.ndarray'>\n",
      "[ 1  3  4  5  4  5 63 22 22]\n",
      "int32\n"
     ]
    }
   ],
   "source": [
    "arr = np.array([1,3,4,5,4,5,63,22,22])\n",
    "print(arr)\n",
    "newarr = arr.astype('i')\n",
    "print(type(arr))\n",
    "print(newarr)\n",
    "print(newarr.dtype)"
   ]
  },
  {
   "cell_type": "code",
   "execution_count": 29,
   "id": "0c0e9bdc-cdce-441e-811d-9fe851e88d58",
   "metadata": {},
   "outputs": [
    {
     "name": "stdout",
     "output_type": "stream",
     "text": [
      "original arr [ 30   2   3   4 211   1] dupe arr [ 30   2   3   4 211   1]\n"
     ]
    }
   ],
   "source": [
    "# copy view\n",
    "\n",
    "arr = np.array([1,2,3,4,211,1])\n",
    "x = arr.copy()\n",
    "arr[0] = 30\n",
    "print(\"original arr\", arr,\"dupe arr\", arr)"
   ]
  },
  {
   "cell_type": "code",
   "execution_count": 34,
   "id": "8eb506c2-5336-4d0f-8706-b9a0dc96f844",
   "metadata": {},
   "outputs": [
    {
     "name": "stdout",
     "output_type": "stream",
     "text": [
      "original [30  2  3  4  5]\n",
      "<built-in method view of numpy.ndarray object at 0x1181165b0>\n",
      "[30  2  3  4  5]\n",
      "None\n",
      "updated view array [30  2  3  4  5]\n"
     ]
    }
   ],
   "source": [
    "arr = np.array([1,2,3,4,5])\n",
    "x = arr.view()\n",
    "y = arr.copy()\n",
    "arr[0]=30\n",
    "print(\"original\", arr)\n",
    "print(x.view)\n",
    "print(x.base)\n",
    "print(y.base)\n",
    "\n",
    "print(\"updated view array\",x)"
   ]
  },
  {
   "cell_type": "code",
   "execution_count": 35,
   "id": "670956eb-60a6-401f-b39b-360624d967d9",
   "metadata": {},
   "outputs": [
    {
     "name": "stdout",
     "output_type": "stream",
     "text": [
      "[[1 2 3]\n",
      " [4 5 6]]\n"
     ]
    }
   ],
   "source": [
    "l1 = [[1,2,3],[4,5,6]]\n",
    "arr1 = np.array(l1)\n",
    "print(arr1)\n"
   ]
  },
  {
   "cell_type": "code",
   "execution_count": 36,
   "id": "96b8f200-6343-420e-a368-35e426a5d45f",
   "metadata": {},
   "outputs": [
    {
     "name": "stdout",
     "output_type": "stream",
     "text": [
      "(2, 3)\n"
     ]
    }
   ],
   "source": [
    "print(arr1.shape)"
   ]
  },
  {
   "cell_type": "code",
   "execution_count": 37,
   "id": "cd1b7b93-1872-4852-b0ec-2e8b4d7b20d8",
   "metadata": {},
   "outputs": [
    {
     "name": "stdout",
     "output_type": "stream",
     "text": [
      "1\n",
      "2\n",
      "3\n",
      "4\n",
      "5\n",
      "6\n",
      "7\n",
      "8\n",
      "9\n"
     ]
    }
   ],
   "source": [
    "arr1 = np.array([[[1,2,3],[4,5,6],[7,8,9]]])\n",
    "for x in np.nditer(arr1):\n",
    "    print(x)"
   ]
  },
  {
   "cell_type": "code",
   "execution_count": 42,
   "id": "52f56349-e463-44c3-8070-ea8e71a1376c",
   "metadata": {},
   "outputs": [
    {
     "name": "stdout",
     "output_type": "stream",
     "text": [
      "[333 422 213 222   1   2   3   4]\n",
      "[333 422 213 222   1   2   3   4]\n"
     ]
    }
   ],
   "source": [
    "arr2 = np.array([1,2,3,4])\n",
    "arr3 = np.array([333,422,213,222])\n",
    "arr4 = np.concatenate((arr3, arr2))\n",
    "arr5 = np.concatenate((arr3,arr2), axis=0)\n",
    "\n",
    "print(arr4)\n",
    "print(arr5)\n"
   ]
  },
  {
   "cell_type": "code",
   "execution_count": null,
   "id": "0088712b-1605-4549-ae99-43a3672dd667",
   "metadata": {},
   "outputs": [],
   "source": []
  }
 ],
 "metadata": {
  "kernelspec": {
   "display_name": "Python 3 (ipykernel)",
   "language": "python",
   "name": "python3"
  },
  "language_info": {
   "codemirror_mode": {
    "name": "ipython",
    "version": 3
   },
   "file_extension": ".py",
   "mimetype": "text/x-python",
   "name": "python",
   "nbconvert_exporter": "python",
   "pygments_lexer": "ipython3",
   "version": "3.12.2"
  }
 },
 "nbformat": 4,
 "nbformat_minor": 5
}
