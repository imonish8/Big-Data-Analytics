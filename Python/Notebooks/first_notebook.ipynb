print("Hello world")
%history -f first_notebook.py
%history -f first_notebook.ipynb
