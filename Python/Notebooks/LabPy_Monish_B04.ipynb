{
 "cells": [
  {
   "cell_type": "code",
   "execution_count": 16,
   "id": "02554962-8c34-4c76-b3bf-0602adda9604",
   "metadata": {},
   "outputs": [
    {
     "name": "stdout",
     "output_type": "stream",
     "text": [
      "Fare: 5000, PRNNO: ER23455, Status: Confirmed\n",
      "Flight: Indigo, Flight No.: 6E1011, PRN-NO: ER23455\n",
      "Passenger Name: Monish Nule, From: Chennai, To: Pune, Ticket Status: Confirmed, Departure Date: 30-10-2024, Departure Time: 10.00 am, Arrival Date: 30-10-2024, Arrival Time: 2pm\n"
     ]
    }
   ],
   "source": [
    "\"\"\"\n",
    "Q1\n",
    "\"\"\"\n",
    "class Airplane:\n",
    "    def __init__(self, flt_reg_num, flt_model, flt_cap):\n",
    "        self.flt_reg_num = flt_reg_num\n",
    "        self.flt_model = flt_model\n",
    "        self.flt_cap = flt_cap\n",
    "\n",
    "\n",
    "class Flight(Airplane):\n",
    "    def __init__(self, flt_reg_num, flt_model, flt_cap,\n",
    "                 flt_number, from_loc, to_loc, dept_date, dept_time, arrival_date,arrival_time):\n",
    "        super().__init__(flt_reg_num, flt_model, flt_cap)\n",
    "        self.flt_number = flt_number\n",
    "        self.from_loc = from_loc\n",
    "        self.to_loc = to_loc\n",
    "        self. dept_date =  dept_date\n",
    "        self.dept_time = dept_time\n",
    "        self.arrival_date = arrival_date\n",
    "        self.arrival_time = arrival_time\n",
    "\n",
    "\n",
    "class Presenter(Flight):\n",
    "    def __init__(self, flt_reg_num, flt_model, flt_cap,\n",
    "                 flt_number, from_loc, to_loc, dept_date, dept_time, arrival_date,arrival_time,\n",
    "                 pass_name, pass_email, contact ):\n",
    "        super().__init__(flt_reg_num, flt_model, flt_cap, flt_number, \n",
    "                         from_loc, to_loc, dept_date, dept_time, arrival_date, arrival_time)\n",
    "        self.pass_name = pass_name\n",
    "        self.pass_email = pass_email\n",
    "        self.contact = contact\n",
    "\n",
    "\n",
    "class Ticket(Presenter):\n",
    "    def __init__(self, flt_reg_num, flt_model, flt_cap,\n",
    "                 flt_number, from_loc,to_loc, dept_date, dept_time, arrival_date,arrival_time,\n",
    "                 pass_name, pass_email, contact):\n",
    "        super().__init__(flt_reg_num, flt_model, flt_cap, flt_number, \n",
    "                         from_loc, to_loc, dept_date, dept_time, arrival_date,arrival_time,\n",
    "                         pass_name, pass_email, contact)\n",
    "\n",
    "    def show_details(self):\n",
    "        print(f\"Fare: 5000, PRNNO: {self.flt_reg_num}, Status: Confirmed\")\n",
    "        print(f\"Flight: {self.flt_model}, Flight No.: {self.flt_number}, PRN-NO: {self.flt_reg_num}\")\n",
    "        print(f\"Passenger Name: {self.pass_name}, From: {self.from_loc}, To: {self.to_loc}, \"\n",
    "              f\"Ticket Status: Confirmed, Departure Date: {self.dept_date}, Departure Time: {self.dept_time}, \"\n",
    "              f\"Arrival Date: {self.arrival_date}, Arrival Time: {self.arrival_time}\")\n",
    "\n",
    "\n",
    "\n",
    "#ticket = Ticket(\"ER23455\", \"Indigo\", 180, \"6E1011\", \"Chennai\", \"Pune\", \"30-10-2024\", \"10.00 am\", \"30-10-2024\", \"Monish Nule\", \"mnule1@gmail.com\",\"8888015913\")\n",
    "\n",
    "ticket = Ticket(\"ER23455\", \"Indigo\", 180, \"6E1011\", \"Chennai\", \"Pune\", \"30-10-2024\", \"10.00 am\", \"30-10-2024\", \"2pm\",\n",
    "                \"Monish Nule\", \"mnule1@gmail.com\", 8888015913)\n",
    "\n",
    "ticket.show_details()"
   ]
  },
  {
   "cell_type": "code",
   "execution_count": 17,
   "id": "b1322538-28a5-444c-a289-d844a920eaa6",
   "metadata": {},
   "outputs": [
    {
     "name": "stdout",
     "output_type": "stream",
     "text": [
      "AssertionError: The number must be Even Number!\n",
      "10 is a Even number.\n"
     ]
    }
   ],
   "source": [
    "\"\"\"\n",
    "Q 2\n",
    "\n",
    "\"\"\"\n",
    "def check_Even(n):\n",
    "    assert  n % 2 == 0, \"The number must be Even Number!\"\n",
    "    return f\"{n} is a Even number.\"\n",
    "\n",
    "try:\n",
    "    result = check_Even(-5) \n",
    "except AssertionError as e:\n",
    "    print(f\"AssertionError: {e}\")\n",
    "\n",
    "\n",
    "try:\n",
    "    result = check_Even(10)\n",
    "    print(result) \n",
    "except AssertionError as e:\n",
    "    print(f\"AssertionError: {e}\")\n"
   ]
  },
  {
   "cell_type": "code",
   "execution_count": 24,
   "id": "75e3b36e-4d9d-4fe5-afc0-a45123e052db",
   "metadata": {},
   "outputs": [
    {
     "name": "stdout",
     "output_type": "stream",
     "text": [
      "Negative numbers from the list: [-33, -67, -100, -92.88, -643]\n",
      "\n",
      "\n",
      "Negative Even Numbers :  [-100]\n",
      "\n",
      "\n",
      "Negative Odd Numbers :  [-33, -67, -92.88, -643]\n"
     ]
    }
   ],
   "source": [
    "\"\"\"\n",
    "Q 3\n",
    "\n",
    "\"\"\"\n",
    "\n",
    "numbers = [5, 55, -33, -67, 87, 99, -100, 30, -92.88, -643]\n",
    "\n",
    "\n",
    "negative_numbers = list(filter(lambda x: x < 0 , numbers))\n",
    "Negative_Even = list(filter(lambda x: x < 0 and x % 2 == 0, numbers))\n",
    "Negative_Odd = list(filter(lambda x: x < 0 and x % 2 != 0, numbers))\n",
    "print(\"Negative numbers from the list:\", negative_numbers)\n",
    "print()\n",
    "print(\"\\nNegative Even Numbers : \",Negative_Even)\n",
    "print()\n",
    "print(\"\\nNegative Odd Numbers : \",Negative_Odd)\n"
   ]
  },
  {
   "cell_type": "code",
   "execution_count": 37,
   "id": "987b2ad7-59cf-462d-8aa4-b14f20d2978a",
   "metadata": {},
   "outputs": [
    {
     "name": "stdout",
     "output_type": "stream",
     "text": [
      "Original Cheese Data:\n",
      "   CheeseType  MoisturePercent\n",
      "0     Cheddar             34.0\n",
      "1        Brie              NaN\n",
      "2       Gouda             48.0\n",
      "3  Mozzarella             60.0\n",
      "4    Parmesan              NaN\n",
      "\n",
      "Missing data in each column:\n",
      "CheeseType         0\n",
      "MoisturePercent    2\n",
      "dtype: int64\n",
      "\n",
      "Cleaned Cheese Data (with missing values replaced):\n",
      "   CheeseType  MoisturePercent\n",
      "0     Cheddar        34.000000\n",
      "1        Brie        47.333333\n",
      "2       Gouda        48.000000\n",
      "3  Mozzarella        60.000000\n",
      "4    Parmesan        47.333333\n"
     ]
    },
    {
     "name": "stderr",
     "output_type": "stream",
     "text": [
      "/var/folders/mq/cnsvvmjs121f7wclbf4fynwc0000gn/T/ipykernel_1369/1790470576.py:23: FutureWarning: A value is trying to be set on a copy of a DataFrame or Series through chained assignment using an inplace method.\n",
      "The behavior will change in pandas 3.0. This inplace method will never work because the intermediate object on which we are setting values always behaves as a copy.\n",
      "\n",
      "For example, when doing 'df[col].method(value, inplace=True)', try using 'df.method({col: value}, inplace=True)' or df[col] = df[col].method(value) instead, to perform the operation inplace on the original object.\n",
      "\n",
      "\n",
      "  cheese_data['MoisturePercent'].fillna(mean_moisture, inplace=True)\n"
     ]
    }
   ],
   "source": [
    "\"\"\"\n",
    "q 4\n",
    "\n",
    "\"\"\"\n",
    "import pandas as pd\n",
    "\n",
    "data = {\n",
    "    'CheeseType': ['Cheddar', 'Brie', 'Gouda', 'Mozzarella', 'Parmesan'],\n",
    "    'MoisturePercent': [34.0, None, 48.0, 60.0, None]\n",
    "}\n",
    "\n",
    "cheese_data = pd.DataFrame(data)\n",
    "\n",
    "print(\"Original Cheese Data:\")\n",
    "print(cheese_data)\n",
    "\n",
    "missing_data = cheese_data.isnull().sum()\n",
    "print(\"\\nMissing data in each column:\")\n",
    "print(missing_data)\n",
    "#cheese_data['MoisturePercent']  = cheese_data['MoisturePercent'].mean()\n",
    "mean_moisture = cheese_data['MoisturePercent'].mean()\n",
    "\n",
    "cheese_data['MoisturePercent'].fillna(mean_moisture, inplace=True)\n",
    "\n",
    "print(\"\\nCleaned Cheese Data (with missing values replaced):\")\n",
    "print(cheese_data)\n"
   ]
  },
  {
   "cell_type": "code",
   "execution_count": 38,
   "id": "09dbf707-d8ef-4711-818e-92658006126b",
   "metadata": {},
   "outputs": [
    {
     "name": "stdout",
     "output_type": "stream",
     "text": [
      "['H', 'e', 'i', 's', 'e', 'a', 'r', 'n', 'i', 'n', 'g', '1', '9', '8', '3', '7', '0', 'p', 'e', 'r', 'm', 'o', 'n', 't', 'h']\n",
      "Characters and digits only: Heisearning198370permonth\n"
     ]
    }
   ],
   "source": [
    "\"\"\"\n",
    "Q 5\n",
    "\n",
    "\"\"\"\n",
    "import re\n",
    "\n",
    "\n",
    "txt = 'He@#^& is) ( earning$# 198370 per month'\n",
    "\n",
    "\n",
    "result = re.findall(r'[A-Za-z0-9]', txt)\n",
    "\n",
    "\n",
    "cleaned_result = ''.join(result)\n",
    "\n",
    "\n",
    "print(\"Characters and digits only:\", cleaned_result)"
   ]
  },
  {
   "cell_type": "code",
   "execution_count": 42,
   "id": "2edb4b24-3168-4cc6-adc5-01730e2a4212",
   "metadata": {},
   "outputs": [
    {
     "name": "stdout",
     "output_type": "stream",
     "text": [
      "Connection to MySQL DB successful\n",
      "The error '1050 (42S01): Table 'employeetest' already exists' occurred\n",
      "Query executed successfully\n",
      "Query executed successfully\n",
      "\n",
      "Employees in IT Department:\n",
      "(1, 'John Doe', 'IT')\n",
      "(2, 'John Doe', 'IT')\n",
      "(3, 'John Doe', 'IT')\n",
      "(4, 'John Doe', 'IT')\n",
      "(5, 'John Doe', 'IT')\n",
      "(6, 'John Doe', 'IT')\n",
      "(7, 'John Doe', 'IT')\n",
      "(8, 'John Doe', 'IT')\n",
      "(9, 'John Doe', 'IT')\n"
     ]
    }
   ],
   "source": [
    "\"\"\"\n",
    "Q 6\n",
    "\n",
    "\"\"\"\n",
    "import mysql.connector\n",
    "from mysql.connector import Error\n",
    "\n",
    "def create_connection(host_name, user_name, user_password, db_name):\n",
    "    \"\"\" Create a database connection to the MySQL database \"\"\"\n",
    "    connection = None\n",
    "    try:\n",
    "        connection = mysql.connector.connect(\n",
    "            host=host_name,\n",
    "            user=user_name,\n",
    "            password=user_password,\n",
    "            database=db_name\n",
    "        )\n",
    "        print(\"Connection to MySQL DB successful\")\n",
    "    except Error as e:\n",
    "        print(f\"The error '{e}' occurred\")\n",
    "    return connection\n",
    "\n",
    "def execute_query(connection, query):\n",
    "    cursor = connection.cursor()\n",
    "    try:\n",
    "        cursor.execute(query)\n",
    "        connection.commit()\n",
    "        print(\"Query executed successfully\")\n",
    "    except Error as e:\n",
    "        print(f\"The error '{e}' occurred\")\n",
    "\n",
    "def execute_read_query(connection, query):\n",
    "    \"\"\" Execute read query and return results \"\"\"\n",
    "    cursor = connection.cursor()\n",
    "    cursor.execute(query)\n",
    "    return cursor.fetchall()\n",
    "\n",
    "\n",
    "host = 'localhost' \n",
    "user = 'root'  \n",
    "password = 'Monish@16'  \n",
    "database = 'empdb'\n",
    "\n",
    "\n",
    "connection = create_connection(host, user, password, database)\n",
    "\n",
    "create_employee_table_query = \"CREATE TABLE employeeTest (id INT AUTO_INCREMENT PRIMARY KEY,name VARCHAR(100) NOT NULL, department VARCHAR(50) NOT NULL)\"\n",
    "execute_query(connection, create_employee_table_query)\n",
    "\n",
    "\n",
    "insert_employee_query = \"INSERT INTO employeeTest (name, department) VALUES ('John Doe', 'IT')\"\n",
    "execute_query(connection, insert_employee_query)\n",
    "\n",
    "\n",
    "duplicate_insert_query = \"INSERT INTO employeeTest (name, department) VALUES ('John Doe', 'IT')\"\n",
    "execute_query(connection, duplicate_insert_query)  \n",
    "\n",
    "\n",
    "select_it_employees_query = \"SELECT * FROM employeeTest WHERE department = 'IT'\"\n",
    "it_employees = execute_read_query(connection, select_it_employees_query)\n",
    "\n",
    "\n",
    "print(\"\\nEmployees in IT Department:\")\n",
    "for emp in it_employees:\n",
    "    print(emp)\n",
    "\n",
    "\n",
    "if connection:\n",
    "    connection.close()"
   ]
  },
  {
   "cell_type": "code",
   "execution_count": null,
   "id": "cb693ffe-9af2-4e19-a0ce-61bd280ff9b1",
   "metadata": {},
   "outputs": [],
   "source": []
  }
 ],
 "metadata": {
  "kernelspec": {
   "display_name": "Python 3 (ipykernel)",
   "language": "python",
   "name": "python3"
  },
  "language_info": {
   "codemirror_mode": {
    "name": "ipython",
    "version": 3
   },
   "file_extension": ".py",
   "mimetype": "text/x-python",
   "name": "python",
   "nbconvert_exporter": "python",
   "pygments_lexer": "ipython3",
   "version": "3.12.2"
  }
 },
 "nbformat": 4,
 "nbformat_minor": 5
}
