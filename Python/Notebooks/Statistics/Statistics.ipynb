{
 "cells": [
  {
   "cell_type": "code",
   "execution_count": null,
   "id": "7494a599-fe28-4d3a-bb2f-c437e59d119d",
   "metadata": {},
   "outputs": [
    {
     "name": "stdout",
     "output_type": "stream",
     "text": [
      "The history saving thread hit an unexpected error (OperationalError('attempt to write a readonly database')).History will not be written to the database.\n"
     ]
    }
   ],
   "source": [
    "def calculate_range(numbers):\n",
    "    maximum = max(numbers)\n",
    "    minimum = min(numbers)\n",
    "    range_value = maximum - minimum\n",
    "    return maximum, minimum, range_value\n",
    "\n",
    "numbers = list(map(int, input(\"Enter a list of numbers separated by spaces: \").split()))\n",
    "\n",
    "maximum, minimum, range_value = calculate_range(numbers)\n",
    "\n",
    "print(f\"The maximum value in the list is: {maximum}\")\n",
    "print(f\"The minimum value in the list is: {minimum}\")\n",
    "print(f\"The range of the dataset is: {range_value}\")"
   ]
  },
  {
   "cell_type": "code",
   "execution_count": 3,
   "id": "7c4bdaef-4d11-4756-94d3-c4c4d926d9ff",
   "metadata": {},
   "outputs": [
    {
     "name": "stdin",
     "output_type": "stream",
     "text": [
      "Enter the annual incomes separated by spaces:  111 23453 2333234 1234432 2343245\n"
     ]
    },
    {
     "name": "stdout",
     "output_type": "stream",
     "text": [
      "First Quartile (Q1): 23453.0\n",
      "Third Quartile (Q3): 2333234.0\n",
      "Interquartile Range (IQR): 2309781.0\n"
     ]
    }
   ],
   "source": [
    "import numpy as np\n",
    "\n",
    "def calculate_iqr(data):\n",
    "    Q1 = np.percentile(data, 25)\n",
    "    Q3 = np.percentile(data, 75)\n",
    "    IQR = Q3 - Q1\n",
    "    return Q1, Q3, IQR\n",
    "\n",
    "data = list(map(float, input(\"Enter the annual incomes separated by spaces: \").split()))\n",
    "\n",
    "Q1, Q3, IQR = calculate_iqr(data)\n",
    "\n",
    "print(f\"First Quartile (Q1): {Q1}\")\n",
    "print(f\"Third Quartile (Q3): {Q3}\")\n",
    "print(f\"Interquartile Range (IQR): {IQR}\")"
   ]
  },
  {
   "cell_type": "markdown",
   "id": "59701c6b-e13e-414d-b200-bb7d6734f1fb",
   "metadata": {},
   "source": [
    "## Mean Absolute Deviation\n",
    "> 1. MAD = SUMATION(x - ų) (ų -> Representing population)\n",
    "> 2. avg of deviations around the mean for a set of numbers\n",
    "> 3. Checks for integrity of data if we can rely on the data or not ?\n",
    "> 4. MAD IS IMPORTANT, FIRST STEP TO DO WHEN YOU GET DATA FROM ANY SOURCE.\n",
    "> "
   ]
  },
  {
   "cell_type": "code",
   "execution_count": 4,
   "id": "24e756b5-fee9-4776-813b-237032d64084",
   "metadata": {},
   "outputs": [
    {
     "name": "stdin",
     "output_type": "stream",
     "text": [
      "Enter a list of numbers separated by spaces:  1 2 3 4 5 6 7 7 8\n"
     ]
    },
    {
     "name": "stdout",
     "output_type": "stream",
     "text": [
      "Mean of the dataset: 4.777777777777778\n",
      "Mean Absolute Deviation (MAD): 2.0246913580246915\n"
     ]
    }
   ],
   "source": [
    "\n",
    "data = list(map(float, input(\"Enter a list of numbers separated by spaces: \").split()))\n",
    "\n",
    "mean = sum(data) / len(data)\n",
    "\n",
    "mad = sum(abs(x - mean) for x in data) / len(data)\n",
    "\n",
    "\n",
    "print(f\"Mean of the dataset: {mean}\")\n",
    "print(f\"Mean Absolute Deviation (MAD): {mad}\")"
   ]
  },
  {
   "cell_type": "markdown",
   "id": "42e45177-57f5-404f-9811-ce81ac4e42ee",
   "metadata": {},
   "source": [
    "import statistics as st\n",
    "\n",
    "data = list(map(float, input(\"Enter a list of numbers separated by spaces: \").split()))\n",
    "\n",
    "mean_val = st.mean(data)\n",
    "deviations = [abs(x - mean) for x in data]\n",
    "mad = st.mean(deviations)\n",
    "mad = round(mad, 2)\n",
    "print(f\"Mean : {mean_val}\")\n",
    "print(f\"Mean Absolute Deviations : {mad}\")\n",
    "\n"
   ]
  },
  {
   "cell_type": "markdown",
   "id": "5d1fdba6-3978-4133-a2b6-b58dd0cfbff4",
   "metadata": {},
   "source": [
    "## Variance & Standard Deviations\n",
    "> 1. ų^2 = sumation(x - ų)^2/N\n",
    "> 2. how scattered the numbers are from mean.\n",
    "> 3. if variance is high, data points are spread vice versa.\n",
    "> 4. statistical measure, that tells us how much the value in dataset diff from mean or average.\n",
    "> 5. gives idea, weather the datapoints are closely packed together,or spread out.\n",
    "> 6. if variance is small, the numbers are close to the average. if large, number are spread out.\n",
    "> 7. STD = SQRT(VARIANCE)\n",
    "\n",
    "- G1 : 10 11 10 9 10 -> VARIANCE IS LOW (9 TO 11)(11 - 9 = 2)\n",
    "- G2 : 5 15 12 10 18 -> LARGE ( 5 TO 18)( 18 - 5 = 13)\n",
    "- MAX(DATA) - MIN(DATA) = LOW/HIGH (VARIANCE LOW/HIGH)\n",
    "- "
   ]
  },
  {
   "cell_type": "code",
   "execution_count": 9,
   "id": "7739c879-b851-4fc3-9a50-70a5163bb8c9",
   "metadata": {},
   "outputs": [
    {
     "name": "stdin",
     "output_type": "stream",
     "text": [
      "Enter a list of numbers separated by spaces:  1 2 3 1 22 212 12\n"
     ]
    },
    {
     "name": "stdout",
     "output_type": "stream",
     "text": [
      "standard deviation : 77.93464905810202\n"
     ]
    }
   ],
   "source": [
    "data = list(map(float, input(\"Enter a list of numbers separated by spaces: \").split()))\n",
    "\n",
    "std_deviations = st.stdev(data)\n",
    "print(f\"standard deviation : {std_deviations}\")"
   ]
  },
  {
   "cell_type": "code",
   "execution_count": 11,
   "id": "0ef2bc43-0477-4447-895e-3b5503791c60",
   "metadata": {},
   "outputs": [
    {
     "name": "stdin",
     "output_type": "stream",
     "text": [
      "Enter a list of numbers separated by spaces:  1 2 3 4 111 111 111\n"
     ]
    },
    {
     "name": "stdout",
     "output_type": "stream",
     "text": [
      "standard deviation : 58.0\n"
     ]
    }
   ],
   "source": [
    "data = list(map(float, input(\"Enter a list of numbers separated by spaces: \").split()))\n",
    "\n",
    "std_deviations = round(st.stdev(data), 2)\n",
    "print(f\"standard deviation : {std_deviations}\")"
   ]
  },
  {
   "cell_type": "code",
   "execution_count": 12,
   "id": "96931898-cef0-43f7-a105-e25c75637edd",
   "metadata": {},
   "outputs": [
    {
     "name": "stdout",
     "output_type": "stream",
     "text": [
      "58.0\n"
     ]
    }
   ],
   "source": [
    "import pandas as pd\n",
    "s = pd.Series(data)\n",
    "std_dev = s.std()\n",
    "print(round(std_dev, 2))"
   ]
  },
  {
   "cell_type": "code",
   "execution_count": null,
   "id": "8960f5a1-5f15-461b-b0b5-9f232e9707c3",
   "metadata": {},
   "outputs": [],
   "source": [
    "d = np.array(data)\n",
    "variance = round(np.var(d), 2)\n",
    "print(f\"Variance : {variance}\")\n"
   ]
  },
  {
   "cell_type": "markdown",
   "id": "e682b086-56ac-4760-8927-cd146f5f3f29",
   "metadata": {},
   "source": [
    "## Emperical Rule:\n",
    "if set of data is normally distrubuted, approx. \n",
    "> 1. 68% Data Values are within one std of the mean. ų +- 1б\n",
    "> 2. 95% Data Values are within two std of the mean. ų +- 2б\n",
    "> 3. 99.7% Data Values are within three std of the mean. ų +- 3б"
   ]
  },
  {
   "cell_type": "markdown",
   "id": "1834e6f1-ba40-4fd1-ab35-f45d65a3bad0",
   "metadata": {},
   "source": [
    "## Chebyshiv's Theorem:\n",
    "> 1. atleast 1 - 1/k^2  will fall within +-k std.deviations of the mean.\n",
    "> 2. k -> 2 means 1-1/4=0.75 which 3/4 which is 75% falls in +-2б\n",
    "> 3. irrespective of the distribution is unknown or known.\n",
    "> 4. 75% of the data will lie within 2 standard\n",
    "> 5. 89% of the data will lie within 3 standard\n",
    "> 6. 93.75% of the data will lie within 4 "
   ]
  },
  {
   "cell_type": "markdown",
   "id": "80ed237b-9baf-4955-8e08-74be1b755e45",
   "metadata": {},
   "source": [
    "## Z Score OR Standard Score :\n",
    "z = x- ų / б\n",
    "> 1. Represents number of std deviations value of x is above/below the mean, of set of numbers when the data are normally distributed.\n",
    "> 2. z < 0 below the mean.\n",
    "> 3. z > 0 row value above the mean.\n",
    "> 4. "
   ]
  }
 ],
 "metadata": {
  "kernelspec": {
   "display_name": "Python 3 (ipykernel)",
   "language": "python",
   "name": "python3"
  },
  "language_info": {
   "codemirror_mode": {
    "name": "ipython",
    "version": 3
   },
   "file_extension": ".py",
   "mimetype": "text/x-python",
   "name": "python",
   "nbconvert_exporter": "python",
   "pygments_lexer": "ipython3",
   "version": "3.12.2"
  }
 },
 "nbformat": 4,
 "nbformat_minor": 5
}
