{
 "cells": [
  {
   "cell_type": "code",
   "execution_count": null,
   "id": "0855103f-c89a-445d-bc10-3022057dfe06",
   "metadata": {},
   "outputs": [],
   "source": [
    "import mysql.connector\n",
    "\"\"\"\n",
    "conn = mysql.connector.connect(host='localhost', user='root', password='root', database='MASTERCHEF')\n",
    "print(\"Connected to database\")\n",
    "\n",
    "\"\"\"\n",
    "\n",
    "try:\n",
    "    dict={ 'host': 'localhost', 'user': 'root' , 'password': 'root', 'database': 'MASTERCHEF'}\n",
    "    conn = mysql.connector.connect (**dict)\n",
    "    print (\"connected to the Database\")\n",
    "    cur = conn. cursor\n",
    "    #sql = \"Create table hospital(hid int, hname varchar (20), location varchar (20)) \"\n",
    "    sql = \"select * from hospital\"\n",
    "    sql2 = \"insert into hospital \n",
    "    cur. execute (sql)\n",
    "    print (\"Table created successfully\")\n",
    "except (mysql. connector.Error, IOError) as err:\n",
    "    print (\"Errorf)\", err)"
   ]
  },
  {
   "cell_type": "code",
   "execution_count": null,
   "id": "eee9989d-d504-4ab4-96bc-687d37fa04f3",
   "metadata": {},
   "outputs": [],
   "source": [
    "conn = mysql.connector.connect(host='localhost', user='root', password='root', database='MASTERCHEF')\n",
    "print(\"Connected to database\")"
   ]
  },
  {
   "cell_type": "code",
   "execution_count": null,
   "id": "7bd2ad70-7237-4ed8-b605-0f720a9dd788",
   "metadata": {},
   "outputs": [],
   "source": [
    "pip show mysql-connector-python"
   ]
  },
  {
   "cell_type": "code",
   "execution_count": null,
   "id": "a2c58e20-e3a9-4382-b726-5d335dd82a51",
   "metadata": {},
   "outputs": [],
   "source": []
  }
 ],
 "metadata": {
  "kernelspec": {
   "display_name": "Python 3 (ipykernel)",
   "language": "python",
   "name": "python3"
  },
  "language_info": {
   "codemirror_mode": {
    "name": "ipython",
    "version": 3
   },
   "file_extension": ".py",
   "mimetype": "text/x-python",
   "name": "python",
   "nbconvert_exporter": "python",
   "pygments_lexer": "ipython3",
   "version": "3.12.2"
  }
 },
 "nbformat": 4,
 "nbformat_minor": 5
}
