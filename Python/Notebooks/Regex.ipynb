{
 "cells": [
  {
   "cell_type": "code",
   "execution_count": 1,
   "id": "f7e8bdca-c968-43a0-8a3d-670ee048ef0e",
   "metadata": {},
   "outputs": [],
   "source": [
    "import re"
   ]
  },
  {
   "cell_type": "code",
   "execution_count": 28,
   "id": "b4621ba6-d0ea-4327-a8e2-1bf4b7cee28b",
   "metadata": {},
   "outputs": [
    {
     "name": "stdout",
     "output_type": "stream",
     "text": [
      "None\n"
     ]
    }
   ],
   "source": [
    "import re\n",
    "txt = 'hi, Python I Love Python 93030'\n",
    "m = re.search('^Python', txt)\n",
    "print(m)"
   ]
  },
  {
   "cell_type": "code",
   "execution_count": 10,
   "id": "bef17834-4f20-402b-a88a-74553e30c83c",
   "metadata": {},
   "outputs": [
    {
     "name": "stdout",
     "output_type": "stream",
     "text": [
      "['hi']\n"
     ]
    }
   ],
   "source": [
    "m = re.findall('hi', txt)\n",
    "print(m)"
   ]
  },
  {
   "cell_type": "code",
   "execution_count": 12,
   "id": "e900cd74-6dcf-4cb7-97ac-e5963bebd443",
   "metadata": {},
   "outputs": [
    {
     "name": "stdout",
     "output_type": "stream",
     "text": [
      "None\n"
     ]
    },
    {
     "name": "stderr",
     "output_type": "stream",
     "text": [
      "<>:1: SyntaxWarning: invalid escape sequence '\\A'\n",
      "<>:1: SyntaxWarning: invalid escape sequence '\\A'\n",
      "/var/folders/mq/cnsvvmjs121f7wclbf4fynwc0000gn/T/ipykernel_2411/2855059690.py:1: SyntaxWarning: invalid escape sequence '\\A'\n",
      "  p = re.search('\\APython', txt)\n"
     ]
    }
   ],
   "source": [
    "p = re.search('\\APython', txt)\n",
    "print(p)"
   ]
  },
  {
   "cell_type": "code",
   "execution_count": 15,
   "id": "bc08cf28-b6d9-408c-b065-cab64ab39cd0",
   "metadata": {},
   "outputs": [
    {
     "name": "stdout",
     "output_type": "stream",
     "text": [
      "<re.Match object; span=(0, 2), match='hi'>\n"
     ]
    }
   ],
   "source": [
    "m = re.match('hi', txt)\n",
    "print(m)"
   ]
  },
  {
   "cell_type": "code",
   "execution_count": 21,
   "id": "a3a6e662-bc0e-4c67-bacb-b7e09bbbaf54",
   "metadata": {},
   "outputs": [
    {
     "name": "stdout",
     "output_type": "stream",
     "text": [
      "['hi, Python I Love Python']\n"
     ]
    }
   ],
   "source": [
    "m = re.split('/s', txt, maxsplit =2)\n",
    "print(m)"
   ]
  },
  {
   "cell_type": "code",
   "execution_count": 17,
   "id": "4fee3062-d124-4716-933b-cb1502fef0c9",
   "metadata": {},
   "outputs": [
    {
     "name": "stdout",
     "output_type": "stream",
     "text": [
      "<re.Match object; span=(20, 24), match='Love'>\n"
     ]
    }
   ],
   "source": [
    "m = re.search(r'Love', 'hi, \\n Python \\n  I \\n Love \\n Python', re.MULTILINE)\n",
    "print(m)"
   ]
  },
  {
   "cell_type": "code",
   "execution_count": 19,
   "id": "1ed1a34b-4fb2-4bf9-acbd-0374a6659949",
   "metadata": {},
   "outputs": [
    {
     "name": "stdout",
     "output_type": "stream",
     "text": [
      "<re.Match object; span=(23, 24), match='e'>\n"
     ]
    }
   ],
   "source": [
    "m = re.search(r'e', 'hi, \\n Python \\n  I \\n Love \\n Python',re.MULTILINE)\n",
    "print(m)"
   ]
  },
  {
   "cell_type": "code",
   "execution_count": 26,
   "id": "aa5b7aee-ba52-4037-b4ce-9d2a398c8b32",
   "metadata": {},
   "outputs": [
    {
     "name": "stdout",
     "output_type": "stream",
     "text": [
      "None\n"
     ]
    }
   ],
   "source": [
    "m = re.search(r'^e', txt)\n",
    "print(m)"
   ]
  },
  {
   "cell_type": "code",
   "execution_count": 29,
   "id": "ee6501b9-0702-458a-b0b5-c2c394383512",
   "metadata": {},
   "outputs": [
    {
     "name": "stdout",
     "output_type": "stream",
     "text": [
      "['3', '0', '3', '0']\n"
     ]
    }
   ],
   "source": [
    "lst = re.findall(r'[0-5a-c]', txt)\n",
    "print(lst)"
   ]
  },
  {
   "cell_type": "code",
   "execution_count": 39,
   "id": "137119ec-45de-4fe2-baeb-5286b968f32e",
   "metadata": {},
   "outputs": [
    {
     "name": "stdout",
     "output_type": "stream",
     "text": [
      "None\n",
      "None\n"
     ]
    }
   ],
   "source": [
    "m1 = re.search(r'$e',txt, re.MULTILINE)\n",
    "print(m1)\n",
    "m = re.search(r'/$$e',txt)\n",
    "print(m)"
   ]
  },
  {
   "cell_type": "code",
   "execution_count": null,
   "id": "1def78a0-9571-44ca-aa3c-88efd1262740",
   "metadata": {},
   "outputs": [],
   "source": []
  }
 ],
 "metadata": {
  "kernelspec": {
   "display_name": "Python 3 (ipykernel)",
   "language": "python",
   "name": "python3"
  },
  "language_info": {
   "codemirror_mode": {
    "name": "ipython",
    "version": 3
   },
   "file_extension": ".py",
   "mimetype": "text/x-python",
   "name": "python",
   "nbconvert_exporter": "python",
   "pygments_lexer": "ipython3",
   "version": "3.12.6"
  }
 },
 "nbformat": 4,
 "nbformat_minor": 5
}
